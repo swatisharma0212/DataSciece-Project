{
 "cells": [
  {
   "cell_type": "code",
   "execution_count": 1,
   "id": "c5761bea",
   "metadata": {},
   "outputs": [],
   "source": [
    "## import important Libraries\n",
    "\n",
    "import pandas as pd\n",
    "import numpy as np\n",
    "import seaborn as sns\n",
    "import matplotlib.pyplot as plt"
   ]
  },
  {
   "cell_type": "code",
   "execution_count": 113,
   "id": "0edd49b0",
   "metadata": {},
   "outputs": [],
   "source": [
    "## Dsiplay top 10 rows\n",
    "\n",
    "df=pd.read_csv(r'C:\\Users\\shree\\Downloads\\Netflix data\\Best Movies Netflix.csv')"
   ]
  },
  {
   "cell_type": "code",
   "execution_count": 114,
   "id": "a9d3d8de",
   "metadata": {},
   "outputs": [],
   "source": [
    "df=df.drop('index',axis=1)"
   ]
  },
  {
   "cell_type": "code",
   "execution_count": 115,
   "id": "1968ceb4",
   "metadata": {},
   "outputs": [
    {
     "data": {
      "text/html": [
       "<div>\n",
       "<style scoped>\n",
       "    .dataframe tbody tr th:only-of-type {\n",
       "        vertical-align: middle;\n",
       "    }\n",
       "\n",
       "    .dataframe tbody tr th {\n",
       "        vertical-align: top;\n",
       "    }\n",
       "\n",
       "    .dataframe thead th {\n",
       "        text-align: right;\n",
       "    }\n",
       "</style>\n",
       "<table border=\"1\" class=\"dataframe\">\n",
       "  <thead>\n",
       "    <tr style=\"text-align: right;\">\n",
       "      <th></th>\n",
       "      <th>TITLE</th>\n",
       "      <th>RELEASE_YEAR</th>\n",
       "      <th>SCORE</th>\n",
       "      <th>NUMBER_OF_VOTES</th>\n",
       "      <th>DURATION</th>\n",
       "      <th>MAIN_GENRE</th>\n",
       "      <th>MAIN_PRODUCTION</th>\n",
       "    </tr>\n",
       "  </thead>\n",
       "  <tbody>\n",
       "    <tr>\n",
       "      <th>0</th>\n",
       "      <td>David Attenborough: A Life on Our Planet</td>\n",
       "      <td>2020</td>\n",
       "      <td>9.0</td>\n",
       "      <td>31180</td>\n",
       "      <td>83</td>\n",
       "      <td>documentary</td>\n",
       "      <td>GB</td>\n",
       "    </tr>\n",
       "    <tr>\n",
       "      <th>1</th>\n",
       "      <td>Inception</td>\n",
       "      <td>2010</td>\n",
       "      <td>8.8</td>\n",
       "      <td>2268288</td>\n",
       "      <td>148</td>\n",
       "      <td>scifi</td>\n",
       "      <td>GB</td>\n",
       "    </tr>\n",
       "    <tr>\n",
       "      <th>2</th>\n",
       "      <td>Forrest Gump</td>\n",
       "      <td>1994</td>\n",
       "      <td>8.8</td>\n",
       "      <td>1994599</td>\n",
       "      <td>142</td>\n",
       "      <td>drama</td>\n",
       "      <td>US</td>\n",
       "    </tr>\n",
       "    <tr>\n",
       "      <th>3</th>\n",
       "      <td>Anbe Sivam</td>\n",
       "      <td>2003</td>\n",
       "      <td>8.7</td>\n",
       "      <td>20595</td>\n",
       "      <td>160</td>\n",
       "      <td>comedy</td>\n",
       "      <td>IN</td>\n",
       "    </tr>\n",
       "    <tr>\n",
       "      <th>4</th>\n",
       "      <td>Bo Burnham: Inside</td>\n",
       "      <td>2021</td>\n",
       "      <td>8.7</td>\n",
       "      <td>44074</td>\n",
       "      <td>87</td>\n",
       "      <td>comedy</td>\n",
       "      <td>US</td>\n",
       "    </tr>\n",
       "    <tr>\n",
       "      <th>5</th>\n",
       "      <td>Saving Private Ryan</td>\n",
       "      <td>1998</td>\n",
       "      <td>8.6</td>\n",
       "      <td>1346020</td>\n",
       "      <td>169</td>\n",
       "      <td>drama</td>\n",
       "      <td>US</td>\n",
       "    </tr>\n",
       "    <tr>\n",
       "      <th>6</th>\n",
       "      <td>Django Unchained</td>\n",
       "      <td>2012</td>\n",
       "      <td>8.4</td>\n",
       "      <td>1472668</td>\n",
       "      <td>165</td>\n",
       "      <td>western</td>\n",
       "      <td>US</td>\n",
       "    </tr>\n",
       "    <tr>\n",
       "      <th>7</th>\n",
       "      <td>Dangal</td>\n",
       "      <td>2016</td>\n",
       "      <td>8.4</td>\n",
       "      <td>180247</td>\n",
       "      <td>161</td>\n",
       "      <td>action</td>\n",
       "      <td>IN</td>\n",
       "    </tr>\n",
       "    <tr>\n",
       "      <th>8</th>\n",
       "      <td>Bo Burnham: Make Happy</td>\n",
       "      <td>2016</td>\n",
       "      <td>8.4</td>\n",
       "      <td>14356</td>\n",
       "      <td>60</td>\n",
       "      <td>comedy</td>\n",
       "      <td>US</td>\n",
       "    </tr>\n",
       "    <tr>\n",
       "      <th>9</th>\n",
       "      <td>Louis C.K.: Hilarious</td>\n",
       "      <td>2010</td>\n",
       "      <td>8.4</td>\n",
       "      <td>11973</td>\n",
       "      <td>84</td>\n",
       "      <td>comedy</td>\n",
       "      <td>US</td>\n",
       "    </tr>\n",
       "  </tbody>\n",
       "</table>\n",
       "</div>"
      ],
      "text/plain": [
       "                                      TITLE  RELEASE_YEAR  SCORE  \\\n",
       "0  David Attenborough: A Life on Our Planet          2020    9.0   \n",
       "1                                 Inception          2010    8.8   \n",
       "2                              Forrest Gump          1994    8.8   \n",
       "3                                Anbe Sivam          2003    8.7   \n",
       "4                        Bo Burnham: Inside          2021    8.7   \n",
       "5                       Saving Private Ryan          1998    8.6   \n",
       "6                          Django Unchained          2012    8.4   \n",
       "7                                    Dangal          2016    8.4   \n",
       "8                    Bo Burnham: Make Happy          2016    8.4   \n",
       "9                     Louis C.K.: Hilarious          2010    8.4   \n",
       "\n",
       "   NUMBER_OF_VOTES  DURATION   MAIN_GENRE MAIN_PRODUCTION  \n",
       "0            31180        83  documentary              GB  \n",
       "1          2268288       148        scifi              GB  \n",
       "2          1994599       142        drama              US  \n",
       "3            20595       160       comedy              IN  \n",
       "4            44074        87       comedy              US  \n",
       "5          1346020       169        drama              US  \n",
       "6          1472668       165      western              US  \n",
       "7           180247       161       action              IN  \n",
       "8            14356        60       comedy              US  \n",
       "9            11973        84       comedy              US  "
      ]
     },
     "execution_count": 115,
     "metadata": {},
     "output_type": "execute_result"
    }
   ],
   "source": [
    "df.head(10)"
   ]
  },
  {
   "cell_type": "code",
   "execution_count": 116,
   "id": "72659203",
   "metadata": {},
   "outputs": [
    {
     "data": {
      "text/html": [
       "<div>\n",
       "<style scoped>\n",
       "    .dataframe tbody tr th:only-of-type {\n",
       "        vertical-align: middle;\n",
       "    }\n",
       "\n",
       "    .dataframe tbody tr th {\n",
       "        vertical-align: top;\n",
       "    }\n",
       "\n",
       "    .dataframe thead th {\n",
       "        text-align: right;\n",
       "    }\n",
       "</style>\n",
       "<table border=\"1\" class=\"dataframe\">\n",
       "  <thead>\n",
       "    <tr style=\"text-align: right;\">\n",
       "      <th></th>\n",
       "      <th>TITLE</th>\n",
       "      <th>RELEASE_YEAR</th>\n",
       "      <th>SCORE</th>\n",
       "      <th>NUMBER_OF_VOTES</th>\n",
       "      <th>DURATION</th>\n",
       "      <th>MAIN_GENRE</th>\n",
       "      <th>MAIN_PRODUCTION</th>\n",
       "    </tr>\n",
       "  </thead>\n",
       "  <tbody>\n",
       "    <tr>\n",
       "      <th>377</th>\n",
       "      <td>Mary Kom</td>\n",
       "      <td>2014</td>\n",
       "      <td>6.9</td>\n",
       "      <td>10656</td>\n",
       "      <td>122</td>\n",
       "      <td>drama</td>\n",
       "      <td>IN</td>\n",
       "    </tr>\n",
       "    <tr>\n",
       "      <th>378</th>\n",
       "      <td>Suffragette</td>\n",
       "      <td>2015</td>\n",
       "      <td>6.9</td>\n",
       "      <td>41529</td>\n",
       "      <td>106</td>\n",
       "      <td>drama</td>\n",
       "      <td>FR</td>\n",
       "    </tr>\n",
       "    <tr>\n",
       "      <th>379</th>\n",
       "      <td>Legend of the Guardians: The Owls of Ga'Hoole</td>\n",
       "      <td>2010</td>\n",
       "      <td>6.9</td>\n",
       "      <td>82623</td>\n",
       "      <td>100</td>\n",
       "      <td>fantasy</td>\n",
       "      <td>US</td>\n",
       "    </tr>\n",
       "    <tr>\n",
       "      <th>380</th>\n",
       "      <td>Christine</td>\n",
       "      <td>2016</td>\n",
       "      <td>6.9</td>\n",
       "      <td>14977</td>\n",
       "      <td>115</td>\n",
       "      <td>drama</td>\n",
       "      <td>US</td>\n",
       "    </tr>\n",
       "    <tr>\n",
       "      <th>381</th>\n",
       "      <td>The Night Comes for Us</td>\n",
       "      <td>2018</td>\n",
       "      <td>6.9</td>\n",
       "      <td>25500</td>\n",
       "      <td>121</td>\n",
       "      <td>thriller</td>\n",
       "      <td>ID</td>\n",
       "    </tr>\n",
       "    <tr>\n",
       "      <th>382</th>\n",
       "      <td>The Trip</td>\n",
       "      <td>2021</td>\n",
       "      <td>6.9</td>\n",
       "      <td>19706</td>\n",
       "      <td>113</td>\n",
       "      <td>comedy</td>\n",
       "      <td>NO</td>\n",
       "    </tr>\n",
       "    <tr>\n",
       "      <th>383</th>\n",
       "      <td>The Dirt</td>\n",
       "      <td>2019</td>\n",
       "      <td>6.9</td>\n",
       "      <td>47603</td>\n",
       "      <td>108</td>\n",
       "      <td>drama</td>\n",
       "      <td>US</td>\n",
       "    </tr>\n",
       "    <tr>\n",
       "      <th>384</th>\n",
       "      <td>Top Gun</td>\n",
       "      <td>1986</td>\n",
       "      <td>6.9</td>\n",
       "      <td>329656</td>\n",
       "      <td>110</td>\n",
       "      <td>drama</td>\n",
       "      <td>US</td>\n",
       "    </tr>\n",
       "    <tr>\n",
       "      <th>385</th>\n",
       "      <td>Radhe Shyam</td>\n",
       "      <td>2022</td>\n",
       "      <td>6.9</td>\n",
       "      <td>21328</td>\n",
       "      <td>138</td>\n",
       "      <td>romance</td>\n",
       "      <td>IN</td>\n",
       "    </tr>\n",
       "    <tr>\n",
       "      <th>386</th>\n",
       "      <td>Sorry to Bother You</td>\n",
       "      <td>2018</td>\n",
       "      <td>6.9</td>\n",
       "      <td>75653</td>\n",
       "      <td>111</td>\n",
       "      <td>fantasy</td>\n",
       "      <td>US</td>\n",
       "    </tr>\n",
       "  </tbody>\n",
       "</table>\n",
       "</div>"
      ],
      "text/plain": [
       "                                             TITLE  RELEASE_YEAR  SCORE  \\\n",
       "377                                       Mary Kom          2014    6.9   \n",
       "378                                    Suffragette          2015    6.9   \n",
       "379  Legend of the Guardians: The Owls of Ga'Hoole          2010    6.9   \n",
       "380                                      Christine          2016    6.9   \n",
       "381                         The Night Comes for Us          2018    6.9   \n",
       "382                                       The Trip          2021    6.9   \n",
       "383                                       The Dirt          2019    6.9   \n",
       "384                                        Top Gun          1986    6.9   \n",
       "385                                    Radhe Shyam          2022    6.9   \n",
       "386                            Sorry to Bother You          2018    6.9   \n",
       "\n",
       "     NUMBER_OF_VOTES  DURATION MAIN_GENRE MAIN_PRODUCTION  \n",
       "377            10656       122      drama              IN  \n",
       "378            41529       106      drama              FR  \n",
       "379            82623       100    fantasy              US  \n",
       "380            14977       115      drama              US  \n",
       "381            25500       121   thriller              ID  \n",
       "382            19706       113     comedy              NO  \n",
       "383            47603       108      drama              US  \n",
       "384           329656       110      drama              US  \n",
       "385            21328       138    romance              IN  \n",
       "386            75653       111    fantasy              US  "
      ]
     },
     "execution_count": 116,
     "metadata": {},
     "output_type": "execute_result"
    }
   ],
   "source": [
    "## Display bottom 10 rows\n",
    "\n",
    "df.tail(10)"
   ]
  },
  {
   "cell_type": "code",
   "execution_count": 117,
   "id": "42c508b0",
   "metadata": {},
   "outputs": [
    {
     "data": {
      "text/plain": [
       "(387, 7)"
      ]
     },
     "execution_count": 117,
     "metadata": {},
     "output_type": "execute_result"
    }
   ],
   "source": [
    "##Find Shape of Our Dataset (Number of Rows And Number of Columns)\n",
    "\n",
    "df.shape"
   ]
  },
  {
   "cell_type": "code",
   "execution_count": 118,
   "id": "816a9c00",
   "metadata": {},
   "outputs": [
    {
     "name": "stdout",
     "output_type": "stream",
     "text": [
      "Number of Rows: 387\n",
      "Number of Columns: 7\n"
     ]
    }
   ],
   "source": [
    "print(\"Number of Rows:\", df.shape[0])\n",
    "print(\"Number of Columns:\", df.shape[1])\n"
   ]
  },
  {
   "cell_type": "code",
   "execution_count": 119,
   "id": "eda15c78",
   "metadata": {},
   "outputs": [
    {
     "name": "stdout",
     "output_type": "stream",
     "text": [
      "<class 'pandas.core.frame.DataFrame'>\n",
      "RangeIndex: 387 entries, 0 to 386\n",
      "Data columns (total 7 columns):\n",
      " #   Column           Non-Null Count  Dtype  \n",
      "---  ------           --------------  -----  \n",
      " 0   TITLE            387 non-null    object \n",
      " 1   RELEASE_YEAR     387 non-null    int64  \n",
      " 2   SCORE            387 non-null    float64\n",
      " 3   NUMBER_OF_VOTES  387 non-null    int64  \n",
      " 4   DURATION         387 non-null    int64  \n",
      " 5   MAIN_GENRE       387 non-null    object \n",
      " 6   MAIN_PRODUCTION  387 non-null    object \n",
      "dtypes: float64(1), int64(3), object(3)\n",
      "memory usage: 21.3+ KB\n"
     ]
    }
   ],
   "source": [
    "##Getting Information About Our Dataset Like Total Number Rows, Total Number of Columns, \n",
    "##Datatypes of Each Column And Memory Requirement\n",
    "\n",
    "\n",
    "df.info()"
   ]
  },
  {
   "cell_type": "code",
   "execution_count": 120,
   "id": "40bdb91e",
   "metadata": {},
   "outputs": [
    {
     "name": "stdout",
     "output_type": "stream",
     "text": [
      "Any Missing Value? False\n"
     ]
    }
   ],
   "source": [
    " ##Check Missing Values In The Dataset\n",
    "    \n",
    "print(\"Any Missing Value?\", df.isnull().values.any())"
   ]
  },
  {
   "cell_type": "code",
   "execution_count": 121,
   "id": "beb5efc7",
   "metadata": {},
   "outputs": [
    {
     "data": {
      "text/plain": [
       "TITLE              0\n",
       "RELEASE_YEAR       0\n",
       "SCORE              0\n",
       "NUMBER_OF_VOTES    0\n",
       "DURATION           0\n",
       "MAIN_GENRE         0\n",
       "MAIN_PRODUCTION    0\n",
       "dtype: int64"
      ]
     },
     "execution_count": 121,
     "metadata": {},
     "output_type": "execute_result"
    }
   ],
   "source": [
    "df.isnull().sum()"
   ]
  },
  {
   "cell_type": "code",
   "execution_count": 24,
   "id": "8d569f3c",
   "metadata": {},
   "outputs": [
    {
     "data": {
      "text/plain": [
       "<AxesSubplot:>"
      ]
     },
     "execution_count": 24,
     "metadata": {},
     "output_type": "execute_result"
    },
    {
     "data": {
      "image/png": "[encoded data removed]",
      "text/plain": [
       "<Figure size 640x480 with 2 Axes>"
      ]
     },
     "metadata": {},
     "output_type": "display_data"
    }
   ],
   "source": [
    "sns.heatmap(df.isnull())"
   ]
  },
  {
   "cell_type": "code",
   "execution_count": 122,
   "id": "1ace2c10",
   "metadata": {},
   "outputs": [],
   "source": [
    "## Drop missing value if any\n",
    "\n",
    "df.dropna(axis=0,inplace=True)"
   ]
  },
  {
   "cell_type": "code",
   "execution_count": 123,
   "id": "c7b2b0ef",
   "metadata": {},
   "outputs": [],
   "source": [
    "##Drop Duplicates\n",
    "\n",
    "df=df.drop_duplicates()"
   ]
  },
  {
   "cell_type": "code",
   "execution_count": 124,
   "id": "dcb34892",
   "metadata": {},
   "outputs": [
    {
     "data": {
      "text/html": [
       "<div>\n",
       "<style scoped>\n",
       "    .dataframe tbody tr th:only-of-type {\n",
       "        vertical-align: middle;\n",
       "    }\n",
       "\n",
       "    .dataframe tbody tr th {\n",
       "        vertical-align: top;\n",
       "    }\n",
       "\n",
       "    .dataframe thead th {\n",
       "        text-align: right;\n",
       "    }\n",
       "</style>\n",
       "<table border=\"1\" class=\"dataframe\">\n",
       "  <thead>\n",
       "    <tr style=\"text-align: right;\">\n",
       "      <th></th>\n",
       "      <th>TITLE</th>\n",
       "      <th>RELEASE_YEAR</th>\n",
       "      <th>SCORE</th>\n",
       "      <th>NUMBER_OF_VOTES</th>\n",
       "      <th>DURATION</th>\n",
       "      <th>MAIN_GENRE</th>\n",
       "      <th>MAIN_PRODUCTION</th>\n",
       "    </tr>\n",
       "  </thead>\n",
       "  <tbody>\n",
       "    <tr>\n",
       "      <th>0</th>\n",
       "      <td>David Attenborough: A Life on Our Planet</td>\n",
       "      <td>2020</td>\n",
       "      <td>9.0</td>\n",
       "      <td>31180</td>\n",
       "      <td>83</td>\n",
       "      <td>documentary</td>\n",
       "      <td>GB</td>\n",
       "    </tr>\n",
       "    <tr>\n",
       "      <th>1</th>\n",
       "      <td>Inception</td>\n",
       "      <td>2010</td>\n",
       "      <td>8.8</td>\n",
       "      <td>2268288</td>\n",
       "      <td>148</td>\n",
       "      <td>scifi</td>\n",
       "      <td>GB</td>\n",
       "    </tr>\n",
       "    <tr>\n",
       "      <th>2</th>\n",
       "      <td>Forrest Gump</td>\n",
       "      <td>1994</td>\n",
       "      <td>8.8</td>\n",
       "      <td>1994599</td>\n",
       "      <td>142</td>\n",
       "      <td>drama</td>\n",
       "      <td>US</td>\n",
       "    </tr>\n",
       "    <tr>\n",
       "      <th>3</th>\n",
       "      <td>Anbe Sivam</td>\n",
       "      <td>2003</td>\n",
       "      <td>8.7</td>\n",
       "      <td>20595</td>\n",
       "      <td>160</td>\n",
       "      <td>comedy</td>\n",
       "      <td>IN</td>\n",
       "    </tr>\n",
       "    <tr>\n",
       "      <th>4</th>\n",
       "      <td>Bo Burnham: Inside</td>\n",
       "      <td>2021</td>\n",
       "      <td>8.7</td>\n",
       "      <td>44074</td>\n",
       "      <td>87</td>\n",
       "      <td>comedy</td>\n",
       "      <td>US</td>\n",
       "    </tr>\n",
       "  </tbody>\n",
       "</table>\n",
       "</div>"
      ],
      "text/plain": [
       "                                      TITLE  RELEASE_YEAR  SCORE  \\\n",
       "0  David Attenborough: A Life on Our Planet          2020    9.0   \n",
       "1                                 Inception          2010    8.8   \n",
       "2                              Forrest Gump          1994    8.8   \n",
       "3                                Anbe Sivam          2003    8.7   \n",
       "4                        Bo Burnham: Inside          2021    8.7   \n",
       "\n",
       "   NUMBER_OF_VOTES  DURATION   MAIN_GENRE MAIN_PRODUCTION  \n",
       "0            31180        83  documentary              GB  \n",
       "1          2268288       148        scifi              GB  \n",
       "2          1994599       142        drama              US  \n",
       "3            20595       160       comedy              IN  \n",
       "4            44074        87       comedy              US  "
      ]
     },
     "execution_count": 124,
     "metadata": {},
     "output_type": "execute_result"
    }
   ],
   "source": [
    "df.head()"
   ]
  },
  {
   "cell_type": "code",
   "execution_count": 125,
   "id": "7e8c093e",
   "metadata": {},
   "outputs": [
    {
     "data": {
      "text/plain": [
       "(387, 7)"
      ]
     },
     "execution_count": 125,
     "metadata": {},
     "output_type": "execute_result"
    }
   ],
   "source": [
    "df.shape"
   ]
  },
  {
   "cell_type": "code",
   "execution_count": 126,
   "id": "51492c28",
   "metadata": {
    "scrolled": true
   },
   "outputs": [
    {
     "data": {
      "text/html": [
       "<div>\n",
       "<style scoped>\n",
       "    .dataframe tbody tr th:only-of-type {\n",
       "        vertical-align: middle;\n",
       "    }\n",
       "\n",
       "    .dataframe tbody tr th {\n",
       "        vertical-align: top;\n",
       "    }\n",
       "\n",
       "    .dataframe thead th {\n",
       "        text-align: right;\n",
       "    }\n",
       "</style>\n",
       "<table border=\"1\" class=\"dataframe\">\n",
       "  <thead>\n",
       "    <tr style=\"text-align: right;\">\n",
       "      <th></th>\n",
       "      <th>TITLE</th>\n",
       "      <th>RELEASE_YEAR</th>\n",
       "      <th>SCORE</th>\n",
       "      <th>NUMBER_OF_VOTES</th>\n",
       "      <th>DURATION</th>\n",
       "      <th>MAIN_GENRE</th>\n",
       "      <th>MAIN_PRODUCTION</th>\n",
       "    </tr>\n",
       "  </thead>\n",
       "  <tbody>\n",
       "    <tr>\n",
       "      <th>count</th>\n",
       "      <td>387</td>\n",
       "      <td>387.000000</td>\n",
       "      <td>387.000000</td>\n",
       "      <td>3.870000e+02</td>\n",
       "      <td>387.000000</td>\n",
       "      <td>387</td>\n",
       "      <td>387</td>\n",
       "    </tr>\n",
       "    <tr>\n",
       "      <th>unique</th>\n",
       "      <td>387</td>\n",
       "      <td>NaN</td>\n",
       "      <td>NaN</td>\n",
       "      <td>NaN</td>\n",
       "      <td>NaN</td>\n",
       "      <td>15</td>\n",
       "      <td>35</td>\n",
       "    </tr>\n",
       "    <tr>\n",
       "      <th>top</th>\n",
       "      <td>David Attenborough: A Life on Our Planet</td>\n",
       "      <td>NaN</td>\n",
       "      <td>NaN</td>\n",
       "      <td>NaN</td>\n",
       "      <td>NaN</td>\n",
       "      <td>drama</td>\n",
       "      <td>US</td>\n",
       "    </tr>\n",
       "    <tr>\n",
       "      <th>freq</th>\n",
       "      <td>1</td>\n",
       "      <td>NaN</td>\n",
       "      <td>NaN</td>\n",
       "      <td>NaN</td>\n",
       "      <td>NaN</td>\n",
       "      <td>151</td>\n",
       "      <td>157</td>\n",
       "    </tr>\n",
       "    <tr>\n",
       "      <th>mean</th>\n",
       "      <td>NaN</td>\n",
       "      <td>2011.023256</td>\n",
       "      <td>7.509044</td>\n",
       "      <td>1.365206e+05</td>\n",
       "      <td>123.395349</td>\n",
       "      <td>NaN</td>\n",
       "      <td>NaN</td>\n",
       "    </tr>\n",
       "    <tr>\n",
       "      <th>std</th>\n",
       "      <td>NaN</td>\n",
       "      <td>10.813874</td>\n",
       "      <td>0.441906</td>\n",
       "      <td>2.342114e+05</td>\n",
       "      <td>28.371632</td>\n",
       "      <td>NaN</td>\n",
       "      <td>NaN</td>\n",
       "    </tr>\n",
       "    <tr>\n",
       "      <th>min</th>\n",
       "      <td>NaN</td>\n",
       "      <td>1954.000000</td>\n",
       "      <td>6.900000</td>\n",
       "      <td>1.013900e+04</td>\n",
       "      <td>28.000000</td>\n",
       "      <td>NaN</td>\n",
       "      <td>NaN</td>\n",
       "    </tr>\n",
       "    <tr>\n",
       "      <th>25%</th>\n",
       "      <td>NaN</td>\n",
       "      <td>2008.000000</td>\n",
       "      <td>7.100000</td>\n",
       "      <td>2.051250e+04</td>\n",
       "      <td>103.500000</td>\n",
       "      <td>NaN</td>\n",
       "      <td>NaN</td>\n",
       "    </tr>\n",
       "    <tr>\n",
       "      <th>50%</th>\n",
       "      <td>NaN</td>\n",
       "      <td>2014.000000</td>\n",
       "      <td>7.400000</td>\n",
       "      <td>4.520000e+04</td>\n",
       "      <td>122.000000</td>\n",
       "      <td>NaN</td>\n",
       "      <td>NaN</td>\n",
       "    </tr>\n",
       "    <tr>\n",
       "      <th>75%</th>\n",
       "      <td>NaN</td>\n",
       "      <td>2018.000000</td>\n",
       "      <td>7.800000</td>\n",
       "      <td>1.534855e+05</td>\n",
       "      <td>139.000000</td>\n",
       "      <td>NaN</td>\n",
       "      <td>NaN</td>\n",
       "    </tr>\n",
       "    <tr>\n",
       "      <th>max</th>\n",
       "      <td>NaN</td>\n",
       "      <td>2022.000000</td>\n",
       "      <td>9.000000</td>\n",
       "      <td>2.268288e+06</td>\n",
       "      <td>229.000000</td>\n",
       "      <td>NaN</td>\n",
       "      <td>NaN</td>\n",
       "    </tr>\n",
       "  </tbody>\n",
       "</table>\n",
       "</div>"
      ],
      "text/plain": [
       "                                           TITLE  RELEASE_YEAR       SCORE  \\\n",
       "count                                        387    387.000000  387.000000   \n",
       "unique                                       387           NaN         NaN   \n",
       "top     David Attenborough: A Life on Our Planet           NaN         NaN   \n",
       "freq                                           1           NaN         NaN   \n",
       "mean                                         NaN   2011.023256    7.509044   \n",
       "std                                          NaN     10.813874    0.441906   \n",
       "min                                          NaN   1954.000000    6.900000   \n",
       "25%                                          NaN   2008.000000    7.100000   \n",
       "50%                                          NaN   2014.000000    7.400000   \n",
       "75%                                          NaN   2018.000000    7.800000   \n",
       "max                                          NaN   2022.000000    9.000000   \n",
       "\n",
       "        NUMBER_OF_VOTES    DURATION MAIN_GENRE MAIN_PRODUCTION  \n",
       "count      3.870000e+02  387.000000        387             387  \n",
       "unique              NaN         NaN         15              35  \n",
       "top                 NaN         NaN      drama              US  \n",
       "freq                NaN         NaN        151             157  \n",
       "mean       1.365206e+05  123.395349        NaN             NaN  \n",
       "std        2.342114e+05   28.371632        NaN             NaN  \n",
       "min        1.013900e+04   28.000000        NaN             NaN  \n",
       "25%        2.051250e+04  103.500000        NaN             NaN  \n",
       "50%        4.520000e+04  122.000000        NaN             NaN  \n",
       "75%        1.534855e+05  139.000000        NaN             NaN  \n",
       "max        2.268288e+06  229.000000        NaN             NaN  "
      ]
     },
     "execution_count": 126,
     "metadata": {},
     "output_type": "execute_result"
    }
   ],
   "source": [
    "##Get Overall Statistics About The DataFrame\n",
    "df.describe(include = 'all')"
   ]
  },
  {
   "cell_type": "code",
   "execution_count": 127,
   "id": "364e7fd5",
   "metadata": {},
   "outputs": [
    {
     "data": {
      "text/plain": [
       "Index(['TITLE', 'RELEASE_YEAR', 'SCORE', 'NUMBER_OF_VOTES', 'DURATION',\n",
       "       'MAIN_GENRE', 'MAIN_PRODUCTION'],\n",
       "      dtype='object')"
      ]
     },
     "execution_count": 127,
     "metadata": {},
     "output_type": "execute_result"
    }
   ],
   "source": [
    "df.columns"
   ]
  },
  {
   "cell_type": "code",
   "execution_count": 128,
   "id": "ed273d31",
   "metadata": {},
   "outputs": [
    {
     "data": {
      "text/plain": [
       "15           Once Upon a Time in America\n",
       "37                                Swades\n",
       "50     Lagaan: Once Upon a Time in India\n",
       "52                        Dil Chahta Hai\n",
       "86                         Kal Ho Naa Ho\n",
       "90                          The Irishman\n",
       "93                               Lakshya\n",
       "99                     The Hateful Eight\n",
       "138                   Kuch Kuch Hota Hai\n",
       "165                         Jodhaa Akbar\n",
       "181                     Sivaji: The Boss\n",
       "189               Hum Aapke Hain Koun..!\n",
       "224             Kabhi Khushi Kabhie Gham\n",
       "Name: TITLE, dtype: object"
      ]
     },
     "execution_count": 128,
     "metadata": {},
     "output_type": "execute_result"
    }
   ],
   "source": [
    "##Display Title of The Movie Having Runtime Greater Than or equal to 180 Minutes\n",
    "\n",
    "df[df['DURATION'] >= 180]['TITLE']"
   ]
  },
  {
   "cell_type": "code",
   "execution_count": 50,
   "id": "4c32b72b",
   "metadata": {},
   "outputs": [
    {
     "data": {
      "text/plain": [
       "RELEASE_YEAR\n",
       "1976    795222.000000\n",
       "1975    530877.000000\n",
       "1994    522857.500000\n",
       "1973    391942.000000\n",
       "1987    371476.000000\n",
       "1986    361223.000000\n",
       "1998    342926.400000\n",
       "2012    327210.333333\n",
       "1984    286439.000000\n",
       "2010    279205.437500\n",
       "2000    270231.000000\n",
       "1997    240311.500000\n",
       "2003    229259.875000\n",
       "1996    217534.000000\n",
       "1989    212913.000000\n",
       "1979    211348.000000\n",
       "2006    197426.571429\n",
       "2009    195238.400000\n",
       "2002    188331.000000\n",
       "2005    185180.000000\n",
       "2007    185168.000000\n",
       "2011    182410.933333\n",
       "1971    153463.000000\n",
       "1999    149505.500000\n",
       "1990    137549.000000\n",
       "2013    134955.937500\n",
       "2014    124290.684211\n",
       "2001    111918.333333\n",
       "1967    111189.000000\n",
       "2008    104996.272727\n",
       "2017     99680.142857\n",
       "1995     98075.000000\n",
       "1964     94121.000000\n",
       "2004     91206.000000\n",
       "2015     87835.526316\n",
       "2016     82609.076923\n",
       "1991     79800.000000\n",
       "1993     79669.000000\n",
       "2019     78380.162162\n",
       "2021     59096.038462\n",
       "1992     59086.000000\n",
       "2018     53095.884615\n",
       "1961     50150.000000\n",
       "2020     43256.000000\n",
       "1954     42373.000000\n",
       "2022     30230.200000\n",
       "1966     16168.000000\n",
       "1982     15186.000000\n",
       "1980     11329.000000\n",
       "Name: NUMBER_OF_VOTES, dtype: float64"
      ]
     },
     "execution_count": 50,
     "metadata": {},
     "output_type": "execute_result"
    }
   ],
   "source": [
    " ##In Which Year There Was The Highest Average Voting?\n",
    "\n",
    "df.groupby('RELEASE_YEAR')['NUMBER_OF_VOTES'].mean().sort_values(ascending=False)"
   ]
  },
  {
   "cell_type": "code",
   "execution_count": 129,
   "id": "8f241850",
   "metadata": {},
   "outputs": [
    {
     "data": {
      "image/png": "[encoded data removed]",
      "text/plain": [
       "<Figure size 2000x400 with 1 Axes>"
      ]
     },
     "metadata": {},
     "output_type": "display_data"
    }
   ],
   "source": [
    "sns.barplot(x = \"RELEASE_YEAR\",y = \"NUMBER_OF_VOTES\", data = df)\n",
    "plt.title(' Average Votings by year')\n",
    "plt.rcParams[\"figure.figsize\"] = (20, 4)\n",
    "plt.rcParams[\"xtick.labelsize\"] = 7\n",
    "plt.show()"
   ]
  },
  {
   "cell_type": "code",
   "execution_count": 130,
   "id": "07eb0b8f",
   "metadata": {},
   "outputs": [
    {
     "data": {
      "text/plain": [
       "MAIN_GENRE\n",
       "war            7.800000\n",
       "scifi          7.771429\n",
       "documentary    7.760000\n",
       "action         7.700000\n",
       "comedy         7.606897\n",
       "western        7.557143\n",
       "fantasy        7.484211\n",
       "drama          7.477483\n",
       "crime          7.466667\n",
       "thriller       7.466102\n",
       "romance        7.400000\n",
       "sports         7.400000\n",
       "horror         7.350000\n",
       "animation      7.200000\n",
       "musical        7.150000\n",
       "Name: SCORE, dtype: float64"
      ]
     },
     "execution_count": 130,
     "metadata": {},
     "output_type": "execute_result"
    }
   ],
   "source": [
    "##Find The Average Rating For Each MAIN_GENRE\n",
    "df.groupby('MAIN_GENRE')['SCORE'].mean().sort_values(ascending = False)\n",
    "\n"
   ]
  },
  {
   "cell_type": "code",
   "execution_count": 53,
   "id": "061ca074",
   "metadata": {},
   "outputs": [
    {
     "data": {
      "text/plain": [
       "<AxesSubplot:xlabel='MAIN_GENRE', ylabel='SCORE'>"
      ]
     },
     "execution_count": 53,
     "metadata": {},
     "output_type": "execute_result"
    },
    {
     "data": {
      "image/png": "[encoded data removed]",
      "text/plain": [
       "<Figure size 2000x400 with 1 Axes>"
      ]
     },
     "metadata": {},
     "output_type": "display_data"
    }
   ],
   "source": [
    "sns.lineplot(x = 'MAIN_GENRE' , y = 'SCORE' , data = df )"
   ]
  },
  {
   "cell_type": "code",
   "execution_count": 131,
   "id": "64837d66",
   "metadata": {},
   "outputs": [
    {
     "data": {
      "text/html": [
       "<div>\n",
       "<style scoped>\n",
       "    .dataframe tbody tr th:only-of-type {\n",
       "        vertical-align: middle;\n",
       "    }\n",
       "\n",
       "    .dataframe tbody tr th {\n",
       "        vertical-align: top;\n",
       "    }\n",
       "\n",
       "    .dataframe thead th {\n",
       "        text-align: right;\n",
       "    }\n",
       "</style>\n",
       "<table border=\"1\" class=\"dataframe\">\n",
       "  <thead>\n",
       "    <tr style=\"text-align: right;\">\n",
       "      <th></th>\n",
       "      <th>DURATION</th>\n",
       "    </tr>\n",
       "    <tr>\n",
       "      <th>TITLE</th>\n",
       "      <th></th>\n",
       "    </tr>\n",
       "  </thead>\n",
       "  <tbody>\n",
       "    <tr>\n",
       "      <th>Once Upon a Time in America</th>\n",
       "      <td>229</td>\n",
       "    </tr>\n",
       "    <tr>\n",
       "      <th>Lagaan: Once Upon a Time in India</th>\n",
       "      <td>224</td>\n",
       "    </tr>\n",
       "    <tr>\n",
       "      <th>Jodhaa Akbar</th>\n",
       "      <td>213</td>\n",
       "    </tr>\n",
       "    <tr>\n",
       "      <th>Kabhi Khushi Kabhie Gham</th>\n",
       "      <td>210</td>\n",
       "    </tr>\n",
       "    <tr>\n",
       "      <th>The Irishman</th>\n",
       "      <td>209</td>\n",
       "    </tr>\n",
       "    <tr>\n",
       "      <th>Hum Aapke Hain Koun..!</th>\n",
       "      <td>206</td>\n",
       "    </tr>\n",
       "    <tr>\n",
       "      <th>Swades</th>\n",
       "      <td>189</td>\n",
       "    </tr>\n",
       "    <tr>\n",
       "      <th>Sivaji: The Boss</th>\n",
       "      <td>189</td>\n",
       "    </tr>\n",
       "    <tr>\n",
       "      <th>The Hateful Eight</th>\n",
       "      <td>188</td>\n",
       "    </tr>\n",
       "    <tr>\n",
       "      <th>Kal Ho Naa Ho</th>\n",
       "      <td>186</td>\n",
       "    </tr>\n",
       "  </tbody>\n",
       "</table>\n",
       "</div>"
      ],
      "text/plain": [
       "                                   DURATION\n",
       "TITLE                                      \n",
       "Once Upon a Time in America             229\n",
       "Lagaan: Once Upon a Time in India       224\n",
       "Jodhaa Akbar                            213\n",
       "Kabhi Khushi Kabhie Gham                210\n",
       "The Irishman                            209\n",
       "Hum Aapke Hain Koun..!                  206\n",
       "Swades                                  189\n",
       "Sivaji: The Boss                        189\n",
       "The Hateful Eight                       188\n",
       "Kal Ho Naa Ho                           186"
      ]
     },
     "execution_count": 131,
     "metadata": {},
     "output_type": "execute_result"
    }
   ],
   "source": [
    "##Display Top 10 Lengthy Movies Title and Runtime\n",
    "##nlargest returns top n values in descending order\n",
    "\n",
    "df.nlargest(10,'DURATION')[['TITLE','DURATION']].set_index('TITLE')"
   ]
  },
  {
   "cell_type": "code",
   "execution_count": 74,
   "id": "7666d147",
   "metadata": {},
   "outputs": [
    {
     "data": {
      "text/plain": [
       "RELEASE_YEAR\n",
       "2019    37\n",
       "2017    35\n",
       "2021    26\n",
       "2018    26\n",
       "2016    26\n",
       "2014    19\n",
       "2020    19\n",
       "2015    19\n",
       "2010    16\n",
       "2013    16\n",
       "2011    15\n",
       "2007    14\n",
       "2012    12\n",
       "2008    11\n",
       "2009    10\n",
       "2003     8\n",
       "2004     7\n",
       "2006     7\n",
       "2001     6\n",
       "1997     6\n",
       "1998     5\n",
       "2022     5\n",
       "1994     4\n",
       "2002     4\n",
       "2005     3\n",
       "1987     2\n",
       "1984     2\n",
       "1999     2\n",
       "1986     2\n",
       "1993     2\n",
       "1979     2\n",
       "1995     2\n",
       "1975     1\n",
       "1967     1\n",
       "1973     1\n",
       "1971     1\n",
       "1966     1\n",
       "1964     1\n",
       "1976     1\n",
       "1996     1\n",
       "1980     1\n",
       "1982     1\n",
       "1989     1\n",
       "1990     1\n",
       "1991     1\n",
       "1992     1\n",
       "2000     1\n",
       "1961     1\n",
       "1954     1\n",
       "Name: TITLE, dtype: int64"
      ]
     },
     "execution_count": 74,
     "metadata": {},
     "output_type": "execute_result"
    }
   ],
   "source": [
    "##Display Number of Movies Per Year\n",
    "\n",
    "df.groupby('RELEASE_YEAR')['TITLE'].count().sort_values(ascending = False)\n"
   ]
  },
  {
   "cell_type": "code",
   "execution_count": 132,
   "id": "2bf00820",
   "metadata": {},
   "outputs": [
    {
     "data": {
      "text/plain": [
       "2019    37\n",
       "2017    35\n",
       "2018    26\n",
       "2016    26\n",
       "2021    26\n",
       "2014    19\n",
       "2020    19\n",
       "2015    19\n",
       "2013    16\n",
       "2010    16\n",
       "2011    15\n",
       "2007    14\n",
       "2012    12\n",
       "2008    11\n",
       "2009    10\n",
       "2003     8\n",
       "2004     7\n",
       "2006     7\n",
       "1997     6\n",
       "2001     6\n",
       "1998     5\n",
       "2022     5\n",
       "2002     4\n",
       "1994     4\n",
       "2005     3\n",
       "1986     2\n",
       "1995     2\n",
       "1984     2\n",
       "1979     2\n",
       "1987     2\n",
       "1999     2\n",
       "1993     2\n",
       "1975     1\n",
       "1954     1\n",
       "1980     1\n",
       "1996     1\n",
       "2000     1\n",
       "1992     1\n",
       "1966     1\n",
       "1971     1\n",
       "1961     1\n",
       "1989     1\n",
       "1967     1\n",
       "1990     1\n",
       "1964     1\n",
       "1982     1\n",
       "1976     1\n",
       "1973     1\n",
       "1991     1\n",
       "Name: RELEASE_YEAR, dtype: int64"
      ]
     },
     "execution_count": 132,
     "metadata": {},
     "output_type": "execute_result"
    }
   ],
   "source": [
    "##2nd method\n",
    "df['RELEASE_YEAR'].value_counts()"
   ]
  },
  {
   "cell_type": "code",
   "execution_count": 134,
   "id": "a2ce3b15",
   "metadata": {},
   "outputs": [
    {
     "data": {
      "text/plain": [
       "<AxesSubplot:xlabel='RELEASE_YEAR', ylabel='count'>"
      ]
     },
     "execution_count": 134,
     "metadata": {},
     "output_type": "execute_result"
    },
    {
     "data": {
      "image/png": "[encoded data removed]",
      "text/plain": [
       "<Figure size 2000x400 with 1 Axes>"
      ]
     },
     "metadata": {},
     "output_type": "display_data"
    }
   ],
   "source": [
    "sns.countplot(x = 'RELEASE_YEAR', data = df)"
   ]
  },
  {
   "cell_type": "code",
   "execution_count": 135,
   "id": "f5f27de1",
   "metadata": {},
   "outputs": [],
   "source": [
    "## Find Most Popular Movie Title (Highest Rating)\n",
    "max_rating=df['SCORE'].max()"
   ]
  },
  {
   "cell_type": "code",
   "execution_count": 136,
   "id": "5a26bbda",
   "metadata": {},
   "outputs": [
    {
     "data": {
      "text/html": [
       "<div>\n",
       "<style scoped>\n",
       "    .dataframe tbody tr th:only-of-type {\n",
       "        vertical-align: middle;\n",
       "    }\n",
       "\n",
       "    .dataframe tbody tr th {\n",
       "        vertical-align: top;\n",
       "    }\n",
       "\n",
       "    .dataframe thead th {\n",
       "        text-align: right;\n",
       "    }\n",
       "</style>\n",
       "<table border=\"1\" class=\"dataframe\">\n",
       "  <thead>\n",
       "    <tr style=\"text-align: right;\">\n",
       "      <th></th>\n",
       "      <th>SCORE</th>\n",
       "    </tr>\n",
       "    <tr>\n",
       "      <th>TITLE</th>\n",
       "      <th></th>\n",
       "    </tr>\n",
       "  </thead>\n",
       "  <tbody>\n",
       "    <tr>\n",
       "      <th>David Attenborough: A Life on Our Planet</th>\n",
       "      <td>9.0</td>\n",
       "    </tr>\n",
       "  </tbody>\n",
       "</table>\n",
       "</div>"
      ],
      "text/plain": [
       "                                          SCORE\n",
       "TITLE                                          \n",
       "David Attenborough: A Life on Our Planet    9.0"
      ]
     },
     "execution_count": 136,
     "metadata": {},
     "output_type": "execute_result"
    }
   ],
   "source": [
    "df[df['SCORE']>=max_rating][['TITLE','SCORE']].set_index('TITLE')"
   ]
  },
  {
   "cell_type": "code",
   "execution_count": 137,
   "id": "6252270c",
   "metadata": {},
   "outputs": [],
   "source": [
    "##Display Top 10 Highest Rated Movie Titles And its Directors\n",
    "top10_movies = df.nlargest(10,'SCORE')[['TITLE','MAIN_PRODUCTION','SCORE']]"
   ]
  },
  {
   "cell_type": "code",
   "execution_count": 138,
   "id": "cfbf60c9",
   "metadata": {},
   "outputs": [
    {
     "data": {
      "text/html": [
       "<div>\n",
       "<style scoped>\n",
       "    .dataframe tbody tr th:only-of-type {\n",
       "        vertical-align: middle;\n",
       "    }\n",
       "\n",
       "    .dataframe tbody tr th {\n",
       "        vertical-align: top;\n",
       "    }\n",
       "\n",
       "    .dataframe thead th {\n",
       "        text-align: right;\n",
       "    }\n",
       "</style>\n",
       "<table border=\"1\" class=\"dataframe\">\n",
       "  <thead>\n",
       "    <tr style=\"text-align: right;\">\n",
       "      <th></th>\n",
       "      <th>TITLE</th>\n",
       "      <th>MAIN_PRODUCTION</th>\n",
       "      <th>SCORE</th>\n",
       "    </tr>\n",
       "  </thead>\n",
       "  <tbody>\n",
       "    <tr>\n",
       "      <th>0</th>\n",
       "      <td>David Attenborough: A Life on Our Planet</td>\n",
       "      <td>GB</td>\n",
       "      <td>9.0</td>\n",
       "    </tr>\n",
       "    <tr>\n",
       "      <th>1</th>\n",
       "      <td>Inception</td>\n",
       "      <td>GB</td>\n",
       "      <td>8.8</td>\n",
       "    </tr>\n",
       "    <tr>\n",
       "      <th>2</th>\n",
       "      <td>Forrest Gump</td>\n",
       "      <td>US</td>\n",
       "      <td>8.8</td>\n",
       "    </tr>\n",
       "    <tr>\n",
       "      <th>3</th>\n",
       "      <td>Anbe Sivam</td>\n",
       "      <td>IN</td>\n",
       "      <td>8.7</td>\n",
       "    </tr>\n",
       "    <tr>\n",
       "      <th>4</th>\n",
       "      <td>Bo Burnham: Inside</td>\n",
       "      <td>US</td>\n",
       "      <td>8.7</td>\n",
       "    </tr>\n",
       "    <tr>\n",
       "      <th>5</th>\n",
       "      <td>Saving Private Ryan</td>\n",
       "      <td>US</td>\n",
       "      <td>8.6</td>\n",
       "    </tr>\n",
       "    <tr>\n",
       "      <th>6</th>\n",
       "      <td>Django Unchained</td>\n",
       "      <td>US</td>\n",
       "      <td>8.4</td>\n",
       "    </tr>\n",
       "    <tr>\n",
       "      <th>7</th>\n",
       "      <td>Dangal</td>\n",
       "      <td>IN</td>\n",
       "      <td>8.4</td>\n",
       "    </tr>\n",
       "    <tr>\n",
       "      <th>8</th>\n",
       "      <td>Bo Burnham: Make Happy</td>\n",
       "      <td>US</td>\n",
       "      <td>8.4</td>\n",
       "    </tr>\n",
       "    <tr>\n",
       "      <th>9</th>\n",
       "      <td>Louis C.K.: Hilarious</td>\n",
       "      <td>US</td>\n",
       "      <td>8.4</td>\n",
       "    </tr>\n",
       "  </tbody>\n",
       "</table>\n",
       "</div>"
      ],
      "text/plain": [
       "                                      TITLE MAIN_PRODUCTION  SCORE\n",
       "0  David Attenborough: A Life on Our Planet              GB    9.0\n",
       "1                                 Inception              GB    8.8\n",
       "2                              Forrest Gump              US    8.8\n",
       "3                                Anbe Sivam              IN    8.7\n",
       "4                        Bo Burnham: Inside              US    8.7\n",
       "5                       Saving Private Ryan              US    8.6\n",
       "6                          Django Unchained              US    8.4\n",
       "7                                    Dangal              IN    8.4\n",
       "8                    Bo Burnham: Make Happy              US    8.4\n",
       "9                     Louis C.K.: Hilarious              US    8.4"
      ]
     },
     "execution_count": 138,
     "metadata": {},
     "output_type": "execute_result"
    }
   ],
   "source": [
    "top10_movies"
   ]
  },
  {
   "cell_type": "code",
   "execution_count": 139,
   "id": "e2043743",
   "metadata": {},
   "outputs": [
    {
     "data": {
      "text/plain": [
       "<AxesSubplot:xlabel='TITLE', ylabel='SCORE'>"
      ]
     },
     "execution_count": 139,
     "metadata": {},
     "output_type": "execute_result"
    },
    {
     "data": {
      "image/png": "[encoded data removed]",
      "text/plain": [
       "<Figure size 2000x400 with 1 Axes>"
      ]
     },
     "metadata": {},
     "output_type": "display_data"
    }
   ],
   "source": [
    "sns.barplot(x = 'TITLE',y='SCORE',data = top10_movies)"
   ]
  },
  {
   "cell_type": "code",
   "execution_count": 105,
   "id": "ad6d7c85",
   "metadata": {
    "collapsed": true
   },
   "outputs": [
    {
     "data": {
      "text/plain": [
       "RELEASE_YEAR\n",
       "1976    8.300000\n",
       "1975    8.200000\n",
       "1973    8.100000\n",
       "1987    7.950000\n",
       "1982    7.900000\n",
       "1984    7.850000\n",
       "2003    7.800000\n",
       "1964    7.800000\n",
       "1994    7.800000\n",
       "1990    7.800000\n",
       "1979    7.800000\n",
       "2001    7.783333\n",
       "2012    7.750000\n",
       "1971    7.700000\n",
       "1989    7.700000\n",
       "1967    7.700000\n",
       "2004    7.642857\n",
       "2014    7.642105\n",
       "1995    7.600000\n",
       "2010    7.587500\n",
       "1997    7.566667\n",
       "2013    7.562500\n",
       "1998    7.560000\n",
       "2007    7.528571\n",
       "2011    7.520000\n",
       "2009    7.510000\n",
       "1954    7.500000\n",
       "1986    7.500000\n",
       "1961    7.500000\n",
       "2015    7.489474\n",
       "2019    7.478378\n",
       "2002    7.475000\n",
       "2006    7.471429\n",
       "2016    7.457692\n",
       "2017    7.448571\n",
       "2021    7.438462\n",
       "2008    7.400000\n",
       "2020    7.368421\n",
       "2018    7.353846\n",
       "1993    7.350000\n",
       "2005    7.300000\n",
       "1966    7.300000\n",
       "2022    7.280000\n",
       "1992    7.200000\n",
       "2000    7.200000\n",
       "1999    7.100000\n",
       "1996    7.000000\n",
       "1980    6.900000\n",
       "1991    6.900000\n",
       "Name: SCORE, dtype: float64"
      ]
     },
     "execution_count": 105,
     "metadata": {},
     "output_type": "execute_result"
    }
   ],
   "source": [
    "##Find Average Rating of Movies Year Wise\n",
    "\n",
    "df.groupby('RELEASE_YEAR')['SCORE'].mean().sort_values(ascending=False)"
   ]
  },
  {
   "cell_type": "code",
   "execution_count": 140,
   "id": "e1da25bc",
   "metadata": {},
   "outputs": [],
   "source": [
    "##Classify Movies Based on Ratings [Excellent, Good, and Average]\n",
    "\n",
    "def conditions(df):\n",
    "    if df['SCORE'] >= 9:\n",
    "        val = 'Excellent'\n",
    "    elif df['SCORE'] >=8 and df['SCORE']<9:\n",
    "        val = 'Good'\n",
    "    elif df['SCORE'] >=6.5 and df['SCORE']<8.0:\n",
    "        val = 'Average'  \n",
    "    else:\n",
    "        val = 'Not So Good'\n",
    "    return val\n",
    "\n",
    "#Apply the function to each data point in the data frame\n",
    "df['Movie_Classifier']= df.apply(conditions, axis=1)"
   ]
  },
  {
   "cell_type": "code",
   "execution_count": 141,
   "id": "2b507230",
   "metadata": {},
   "outputs": [
    {
     "data": {
      "text/html": [
       "<div>\n",
       "<style scoped>\n",
       "    .dataframe tbody tr th:only-of-type {\n",
       "        vertical-align: middle;\n",
       "    }\n",
       "\n",
       "    .dataframe tbody tr th {\n",
       "        vertical-align: top;\n",
       "    }\n",
       "\n",
       "    .dataframe thead th {\n",
       "        text-align: right;\n",
       "    }\n",
       "</style>\n",
       "<table border=\"1\" class=\"dataframe\">\n",
       "  <thead>\n",
       "    <tr style=\"text-align: right;\">\n",
       "      <th></th>\n",
       "      <th>TITLE</th>\n",
       "      <th>RELEASE_YEAR</th>\n",
       "      <th>SCORE</th>\n",
       "      <th>NUMBER_OF_VOTES</th>\n",
       "      <th>DURATION</th>\n",
       "      <th>MAIN_GENRE</th>\n",
       "      <th>MAIN_PRODUCTION</th>\n",
       "      <th>Movie_Classifier</th>\n",
       "    </tr>\n",
       "  </thead>\n",
       "  <tbody>\n",
       "    <tr>\n",
       "      <th>0</th>\n",
       "      <td>David Attenborough: A Life on Our Planet</td>\n",
       "      <td>2020</td>\n",
       "      <td>9.0</td>\n",
       "      <td>31180</td>\n",
       "      <td>83</td>\n",
       "      <td>documentary</td>\n",
       "      <td>GB</td>\n",
       "      <td>Excellent</td>\n",
       "    </tr>\n",
       "    <tr>\n",
       "      <th>1</th>\n",
       "      <td>Inception</td>\n",
       "      <td>2010</td>\n",
       "      <td>8.8</td>\n",
       "      <td>2268288</td>\n",
       "      <td>148</td>\n",
       "      <td>scifi</td>\n",
       "      <td>GB</td>\n",
       "      <td>Good</td>\n",
       "    </tr>\n",
       "    <tr>\n",
       "      <th>2</th>\n",
       "      <td>Forrest Gump</td>\n",
       "      <td>1994</td>\n",
       "      <td>8.8</td>\n",
       "      <td>1994599</td>\n",
       "      <td>142</td>\n",
       "      <td>drama</td>\n",
       "      <td>US</td>\n",
       "      <td>Good</td>\n",
       "    </tr>\n",
       "    <tr>\n",
       "      <th>3</th>\n",
       "      <td>Anbe Sivam</td>\n",
       "      <td>2003</td>\n",
       "      <td>8.7</td>\n",
       "      <td>20595</td>\n",
       "      <td>160</td>\n",
       "      <td>comedy</td>\n",
       "      <td>IN</td>\n",
       "      <td>Good</td>\n",
       "    </tr>\n",
       "    <tr>\n",
       "      <th>4</th>\n",
       "      <td>Bo Burnham: Inside</td>\n",
       "      <td>2021</td>\n",
       "      <td>8.7</td>\n",
       "      <td>44074</td>\n",
       "      <td>87</td>\n",
       "      <td>comedy</td>\n",
       "      <td>US</td>\n",
       "      <td>Good</td>\n",
       "    </tr>\n",
       "    <tr>\n",
       "      <th>...</th>\n",
       "      <td>...</td>\n",
       "      <td>...</td>\n",
       "      <td>...</td>\n",
       "      <td>...</td>\n",
       "      <td>...</td>\n",
       "      <td>...</td>\n",
       "      <td>...</td>\n",
       "      <td>...</td>\n",
       "    </tr>\n",
       "    <tr>\n",
       "      <th>382</th>\n",
       "      <td>The Trip</td>\n",
       "      <td>2021</td>\n",
       "      <td>6.9</td>\n",
       "      <td>19706</td>\n",
       "      <td>113</td>\n",
       "      <td>comedy</td>\n",
       "      <td>NO</td>\n",
       "      <td>Average</td>\n",
       "    </tr>\n",
       "    <tr>\n",
       "      <th>383</th>\n",
       "      <td>The Dirt</td>\n",
       "      <td>2019</td>\n",
       "      <td>6.9</td>\n",
       "      <td>47603</td>\n",
       "      <td>108</td>\n",
       "      <td>drama</td>\n",
       "      <td>US</td>\n",
       "      <td>Average</td>\n",
       "    </tr>\n",
       "    <tr>\n",
       "      <th>384</th>\n",
       "      <td>Top Gun</td>\n",
       "      <td>1986</td>\n",
       "      <td>6.9</td>\n",
       "      <td>329656</td>\n",
       "      <td>110</td>\n",
       "      <td>drama</td>\n",
       "      <td>US</td>\n",
       "      <td>Average</td>\n",
       "    </tr>\n",
       "    <tr>\n",
       "      <th>385</th>\n",
       "      <td>Radhe Shyam</td>\n",
       "      <td>2022</td>\n",
       "      <td>6.9</td>\n",
       "      <td>21328</td>\n",
       "      <td>138</td>\n",
       "      <td>romance</td>\n",
       "      <td>IN</td>\n",
       "      <td>Average</td>\n",
       "    </tr>\n",
       "    <tr>\n",
       "      <th>386</th>\n",
       "      <td>Sorry to Bother You</td>\n",
       "      <td>2018</td>\n",
       "      <td>6.9</td>\n",
       "      <td>75653</td>\n",
       "      <td>111</td>\n",
       "      <td>fantasy</td>\n",
       "      <td>US</td>\n",
       "      <td>Average</td>\n",
       "    </tr>\n",
       "  </tbody>\n",
       "</table>\n",
       "<p>387 rows × 8 columns</p>\n",
       "</div>"
      ],
      "text/plain": [
       "                                        TITLE  RELEASE_YEAR  SCORE  \\\n",
       "0    David Attenborough: A Life on Our Planet          2020    9.0   \n",
       "1                                   Inception          2010    8.8   \n",
       "2                                Forrest Gump          1994    8.8   \n",
       "3                                  Anbe Sivam          2003    8.7   \n",
       "4                          Bo Burnham: Inside          2021    8.7   \n",
       "..                                        ...           ...    ...   \n",
       "382                                  The Trip          2021    6.9   \n",
       "383                                  The Dirt          2019    6.9   \n",
       "384                                   Top Gun          1986    6.9   \n",
       "385                               Radhe Shyam          2022    6.9   \n",
       "386                       Sorry to Bother You          2018    6.9   \n",
       "\n",
       "     NUMBER_OF_VOTES  DURATION   MAIN_GENRE MAIN_PRODUCTION Movie_Classifier  \n",
       "0              31180        83  documentary              GB        Excellent  \n",
       "1            2268288       148        scifi              GB             Good  \n",
       "2            1994599       142        drama              US             Good  \n",
       "3              20595       160       comedy              IN             Good  \n",
       "4              44074        87       comedy              US             Good  \n",
       "..               ...       ...          ...             ...              ...  \n",
       "382            19706       113       comedy              NO          Average  \n",
       "383            47603       108        drama              US          Average  \n",
       "384           329656       110        drama              US          Average  \n",
       "385            21328       138      romance              IN          Average  \n",
       "386            75653       111      fantasy              US          Average  \n",
       "\n",
       "[387 rows x 8 columns]"
      ]
     },
     "execution_count": 141,
     "metadata": {},
     "output_type": "execute_result"
    }
   ],
   "source": [
    "df"
   ]
  },
  {
   "cell_type": "code",
   "execution_count": 147,
   "id": "9a35b29d",
   "metadata": {},
   "outputs": [
    {
     "name": "stdout",
     "output_type": "stream",
     "text": [
      "Tptal number of action movies: 5\n"
     ]
    }
   ],
   "source": [
    "##Count Number of Action MoviEnhancability Workshop organized by collegees\n",
    "tot_action_movies = df[df['MAIN_GENRE']=='action']['TITLE'].count()\n",
    "\n",
    "print('Tptal number of action movies:',tot_action_movies)"
   ]
  },
  {
   "cell_type": "code",
   "execution_count": 155,
   "id": "855ab5fc",
   "metadata": {},
   "outputs": [
    {
     "data": {
      "text/plain": [
       "array(['documentary', 'scifi', 'drama', 'comedy', 'western', 'action',\n",
       "       'crime', 'thriller', 'war', 'fantasy', 'romance', 'horror',\n",
       "       'musical', 'animation', 'sports'], dtype=object)"
      ]
     },
     "execution_count": 155,
     "metadata": {},
     "output_type": "execute_result"
    }
   ],
   "source": [
    "##Find Unique Values From Genre \n",
    "\n",
    "df['MAIN_GENRE'].unique()"
   ]
  },
  {
   "cell_type": "code",
   "execution_count": 161,
   "id": "d07bd23c",
   "metadata": {},
   "outputs": [
    {
     "data": {
      "text/plain": [
       "MAIN_GENRE\n",
       "drama          151\n",
       "thriller        59\n",
       "comedy          58\n",
       "crime           21\n",
       "romance         21\n",
       "documentary     20\n",
       "fantasy         19\n",
       "horror           8\n",
       "scifi            7\n",
       "western          7\n",
       "action           5\n",
       "musical          4\n",
       "animation        3\n",
       "war              3\n",
       "sports           1\n",
       "Name: TITLE, dtype: int64"
      ]
     },
     "execution_count": 161,
     "metadata": {},
     "output_type": "execute_result"
    }
   ],
   "source": [
    "##How Many Films of Each Genre Were Made?\n",
    "df.groupby('MAIN_GENRE')['TITLE'].count().sort_values(ascending=False)"
   ]
  },
  {
   "cell_type": "code",
   "execution_count": 160,
   "id": "835c2895",
   "metadata": {},
   "outputs": [
    {
     "data": {
      "text/plain": [
       "drama          151\n",
       "thriller        59\n",
       "comedy          58\n",
       "crime           21\n",
       "romance         21\n",
       "documentary     20\n",
       "fantasy         19\n",
       "horror           8\n",
       "scifi            7\n",
       "western          7\n",
       "action           5\n",
       "musical          4\n",
       "war              3\n",
       "animation        3\n",
       "sports           1\n",
       "Name: MAIN_GENRE, dtype: int64"
      ]
     },
     "execution_count": 160,
     "metadata": {},
     "output_type": "execute_result"
    }
   ],
   "source": [
    "df['MAIN_GENRE'].value_counts()"
   ]
  },
  {
   "cell_type": "code",
   "execution_count": 163,
   "id": "cafbe964",
   "metadata": {},
   "outputs": [
    {
     "data": {
      "image/png": "[encoded data removed]",
      "text/plain": [
       "<Figure size 2000x400 with 1 Axes>"
      ]
     },
     "metadata": {},
     "output_type": "display_data"
    }
   ],
   "source": [
    "sns.countplot(x='MAIN_GENRE',data=df)\n",
    "plt.show()"
   ]
  },
  {
   "cell_type": "code",
   "execution_count": null,
   "id": "4aff7453",
   "metadata": {},
   "outputs": [],
   "source": []
  }
 ],
 "metadata": {
  "kernelspec": {
   "display_name": "Python 3 (ipykernel)",
   "language": "python",
   "name": "python3"
  },
  "language_info": {
   "codemirror_mode": {
    "name": "ipython",
    "version": 3
   },
   "file_extension": ".py",
   "mimetype": "text/x-python",
   "name": "python",
   "nbconvert_exporter": "python",
   "pygments_lexer": "ipython3",
   "version": "3.9.13"
  }
 },
 "nbformat": 4,
 "nbformat_minor": 5
}
